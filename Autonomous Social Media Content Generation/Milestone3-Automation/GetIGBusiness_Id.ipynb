{
 "cells": [
  {
   "cell_type": "code",
   "execution_count": null,
   "metadata": {},
   "outputs": [],
   "source": [
    "import requests\n",
    "import json  \n",
    "\n",
    "# Instagram Graph API Credentials\n",
    "ACCESS_TOKEN = \"\"  # Replace with your actual access token\n",
    "GRAPH_API_URL = \"https://graph.instagram.com\"\n",
    "\n",
    "def get_my_user_id():\n",
    "    \"\"\"\n",
    "    Fetch the Instagram User ID of the authenticated account.\n",
    "    Returns:\n",
    "        dict: User ID and username if successful, otherwise None.\n",
    "    \"\"\"\n",
    "    url = f\"{GRAPH_API_URL}/me\"\n",
    "    params = {\n",
    "        \"fields\": \"id,username\",\n",
    "        \"access_token\": ACCESS_TOKEN\n",
    "    }\n",
    "\n",
    "    response = requests.get(url, params=params)\n",
    "\n",
    "    if response.status_code == 200:\n",
    "        data = response.json()\n",
    "        print(json.dumps(data, indent=4))  # Properly formatted JSON output\n",
    "        return data\n",
    "    else:\n",
    "        print(f\"Error {response.status_code}: {response.text}\")\n",
    "        return None\n",
    "\n",
    "# Execute the Function\n",
    "if __name__ == \"__main__\":\n",
    "    user_data = get_my_user_id()\n"
   ]
  },
  {
   "cell_type": "code",
   "execution_count": null,
   "metadata": {},
   "outputs": [],
   "source": []
  }
 ],
 "metadata": {
  "kernelspec": {
   "display_name": "Python 3",
   "language": "python",
   "name": "python3"
  },
  "language_info": {
   "name": "python",
   "version": "3.12.0"
  }
 },
 "nbformat": 4,
 "nbformat_minor": 2
}
