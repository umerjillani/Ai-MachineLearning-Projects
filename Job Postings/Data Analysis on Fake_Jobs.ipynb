{
 "cells": [
  {
   "cell_type": "code",
   "execution_count": 17,
   "id": "e890edd4-2a74-48d3-80b8-f00821cf8ed4",
   "metadata": {},
   "outputs": [],
   "source": [
    "import pandas as pd\n",
    "import numpy as np\n",
    "import matplotlib.pyplot as plt\n",
    "import seaborn as sns"
   ]
  },
  {
   "cell_type": "code",
   "execution_count": 163,
   "id": "51074965-1943-458e-b392-543d469bf0b6",
   "metadata": {},
   "outputs": [],
   "source": [
    "df = pd.read_csv('fake_job_postings.csv')"
   ]
  },
  {
   "cell_type": "code",
   "execution_count": 164,
   "id": "903465db-a7d3-485b-9ff5-e67315052f6c",
   "metadata": {},
   "outputs": [
    {
     "data": {
      "text/html": [
       "<div>\n",
       "<style scoped>\n",
       "    .dataframe tbody tr th:only-of-type {\n",
       "        vertical-align: middle;\n",
       "    }\n",
       "\n",
       "    .dataframe tbody tr th {\n",
       "        vertical-align: top;\n",
       "    }\n",
       "\n",
       "    .dataframe thead th {\n",
       "        text-align: right;\n",
       "    }\n",
       "</style>\n",
       "<table border=\"1\" class=\"dataframe\">\n",
       "  <thead>\n",
       "    <tr style=\"text-align: right;\">\n",
       "      <th></th>\n",
       "      <th>job_id</th>\n",
       "      <th>title</th>\n",
       "      <th>location</th>\n",
       "      <th>department</th>\n",
       "      <th>salary_range</th>\n",
       "      <th>company_profile</th>\n",
       "      <th>description</th>\n",
       "      <th>requirements</th>\n",
       "      <th>benefits</th>\n",
       "      <th>telecommuting</th>\n",
       "      <th>has_company_logo</th>\n",
       "      <th>has_questions</th>\n",
       "      <th>employment_type</th>\n",
       "      <th>required_experience</th>\n",
       "      <th>required_education</th>\n",
       "      <th>industry</th>\n",
       "      <th>function</th>\n",
       "      <th>fraudulent</th>\n",
       "    </tr>\n",
       "  </thead>\n",
       "  <tbody>\n",
       "    <tr>\n",
       "      <th>0</th>\n",
       "      <td>1</td>\n",
       "      <td>Marketing Intern</td>\n",
       "      <td>US, NY, New York</td>\n",
       "      <td>Marketing</td>\n",
       "      <td>NaN</td>\n",
       "      <td>We're Food52, and we've created a groundbreaki...</td>\n",
       "      <td>Food52, a fast-growing, James Beard Award-winn...</td>\n",
       "      <td>Experience with content management systems a m...</td>\n",
       "      <td>NaN</td>\n",
       "      <td>0</td>\n",
       "      <td>1</td>\n",
       "      <td>0</td>\n",
       "      <td>Other</td>\n",
       "      <td>Internship</td>\n",
       "      <td>NaN</td>\n",
       "      <td>NaN</td>\n",
       "      <td>Marketing</td>\n",
       "      <td>0</td>\n",
       "    </tr>\n",
       "    <tr>\n",
       "      <th>1</th>\n",
       "      <td>2</td>\n",
       "      <td>Customer Service - Cloud Video Production</td>\n",
       "      <td>NZ, , Auckland</td>\n",
       "      <td>Success</td>\n",
       "      <td>NaN</td>\n",
       "      <td>90 Seconds, the worlds Cloud Video Production ...</td>\n",
       "      <td>Organised - Focused - Vibrant - Awesome!Do you...</td>\n",
       "      <td>What we expect from you:Your key responsibilit...</td>\n",
       "      <td>What you will get from usThrough being part of...</td>\n",
       "      <td>0</td>\n",
       "      <td>1</td>\n",
       "      <td>0</td>\n",
       "      <td>Full-time</td>\n",
       "      <td>Not Applicable</td>\n",
       "      <td>NaN</td>\n",
       "      <td>Marketing and Advertising</td>\n",
       "      <td>Customer Service</td>\n",
       "      <td>0</td>\n",
       "    </tr>\n",
       "    <tr>\n",
       "      <th>2</th>\n",
       "      <td>3</td>\n",
       "      <td>Commissioning Machinery Assistant (CMA)</td>\n",
       "      <td>US, IA, Wever</td>\n",
       "      <td>NaN</td>\n",
       "      <td>NaN</td>\n",
       "      <td>Valor Services provides Workforce Solutions th...</td>\n",
       "      <td>Our client, located in Houston, is actively se...</td>\n",
       "      <td>Implement pre-commissioning and commissioning ...</td>\n",
       "      <td>NaN</td>\n",
       "      <td>0</td>\n",
       "      <td>1</td>\n",
       "      <td>0</td>\n",
       "      <td>NaN</td>\n",
       "      <td>NaN</td>\n",
       "      <td>NaN</td>\n",
       "      <td>NaN</td>\n",
       "      <td>NaN</td>\n",
       "      <td>0</td>\n",
       "    </tr>\n",
       "    <tr>\n",
       "      <th>3</th>\n",
       "      <td>4</td>\n",
       "      <td>Account Executive - Washington DC</td>\n",
       "      <td>US, DC, Washington</td>\n",
       "      <td>Sales</td>\n",
       "      <td>NaN</td>\n",
       "      <td>Our passion for improving quality of life thro...</td>\n",
       "      <td>THE COMPANY: ESRI – Environmental Systems Rese...</td>\n",
       "      <td>EDUCATION: Bachelor’s or Master’s in GIS, busi...</td>\n",
       "      <td>Our culture is anything but corporate—we have ...</td>\n",
       "      <td>0</td>\n",
       "      <td>1</td>\n",
       "      <td>0</td>\n",
       "      <td>Full-time</td>\n",
       "      <td>Mid-Senior level</td>\n",
       "      <td>Bachelor's Degree</td>\n",
       "      <td>Computer Software</td>\n",
       "      <td>Sales</td>\n",
       "      <td>0</td>\n",
       "    </tr>\n",
       "    <tr>\n",
       "      <th>4</th>\n",
       "      <td>5</td>\n",
       "      <td>Bill Review Manager</td>\n",
       "      <td>US, FL, Fort Worth</td>\n",
       "      <td>NaN</td>\n",
       "      <td>NaN</td>\n",
       "      <td>SpotSource Solutions LLC is a Global Human Cap...</td>\n",
       "      <td>JOB TITLE: Itemization Review ManagerLOCATION:...</td>\n",
       "      <td>QUALIFICATIONS:RN license in the State of Texa...</td>\n",
       "      <td>Full Benefits Offered</td>\n",
       "      <td>0</td>\n",
       "      <td>1</td>\n",
       "      <td>1</td>\n",
       "      <td>Full-time</td>\n",
       "      <td>Mid-Senior level</td>\n",
       "      <td>Bachelor's Degree</td>\n",
       "      <td>Hospital &amp; Health Care</td>\n",
       "      <td>Health Care Provider</td>\n",
       "      <td>0</td>\n",
       "    </tr>\n",
       "  </tbody>\n",
       "</table>\n",
       "</div>"
      ],
      "text/plain": [
       "   job_id                                      title            location  \\\n",
       "0       1                           Marketing Intern    US, NY, New York   \n",
       "1       2  Customer Service - Cloud Video Production      NZ, , Auckland   \n",
       "2       3    Commissioning Machinery Assistant (CMA)       US, IA, Wever   \n",
       "3       4          Account Executive - Washington DC  US, DC, Washington   \n",
       "4       5                        Bill Review Manager  US, FL, Fort Worth   \n",
       "\n",
       "  department salary_range                                    company_profile  \\\n",
       "0  Marketing          NaN  We're Food52, and we've created a groundbreaki...   \n",
       "1    Success          NaN  90 Seconds, the worlds Cloud Video Production ...   \n",
       "2        NaN          NaN  Valor Services provides Workforce Solutions th...   \n",
       "3      Sales          NaN  Our passion for improving quality of life thro...   \n",
       "4        NaN          NaN  SpotSource Solutions LLC is a Global Human Cap...   \n",
       "\n",
       "                                         description  \\\n",
       "0  Food52, a fast-growing, James Beard Award-winn...   \n",
       "1  Organised - Focused - Vibrant - Awesome!Do you...   \n",
       "2  Our client, located in Houston, is actively se...   \n",
       "3  THE COMPANY: ESRI – Environmental Systems Rese...   \n",
       "4  JOB TITLE: Itemization Review ManagerLOCATION:...   \n",
       "\n",
       "                                        requirements  \\\n",
       "0  Experience with content management systems a m...   \n",
       "1  What we expect from you:Your key responsibilit...   \n",
       "2  Implement pre-commissioning and commissioning ...   \n",
       "3  EDUCATION: Bachelor’s or Master’s in GIS, busi...   \n",
       "4  QUALIFICATIONS:RN license in the State of Texa...   \n",
       "\n",
       "                                            benefits  telecommuting  \\\n",
       "0                                                NaN              0   \n",
       "1  What you will get from usThrough being part of...              0   \n",
       "2                                                NaN              0   \n",
       "3  Our culture is anything but corporate—we have ...              0   \n",
       "4                              Full Benefits Offered              0   \n",
       "\n",
       "   has_company_logo  has_questions employment_type required_experience  \\\n",
       "0                 1              0           Other          Internship   \n",
       "1                 1              0       Full-time      Not Applicable   \n",
       "2                 1              0             NaN                 NaN   \n",
       "3                 1              0       Full-time    Mid-Senior level   \n",
       "4                 1              1       Full-time    Mid-Senior level   \n",
       "\n",
       "  required_education                   industry              function  \\\n",
       "0                NaN                        NaN             Marketing   \n",
       "1                NaN  Marketing and Advertising      Customer Service   \n",
       "2                NaN                        NaN                   NaN   \n",
       "3  Bachelor's Degree          Computer Software                 Sales   \n",
       "4  Bachelor's Degree     Hospital & Health Care  Health Care Provider   \n",
       "\n",
       "   fraudulent  \n",
       "0           0  \n",
       "1           0  \n",
       "2           0  \n",
       "3           0  \n",
       "4           0  "
      ]
     },
     "execution_count": 164,
     "metadata": {},
     "output_type": "execute_result"
    }
   ],
   "source": [
    "df.head()"
   ]
  },
  {
   "cell_type": "code",
   "execution_count": 165,
   "id": "80da7e8a-1781-416f-bd26-25ef6a3e5fc8",
   "metadata": {},
   "outputs": [
    {
     "data": {
      "text/plain": [
       "Index(['job_id', 'title', 'location', 'department', 'salary_range',\n",
       "       'company_profile', 'description', 'requirements', 'benefits',\n",
       "       'telecommuting', 'has_company_logo', 'has_questions', 'employment_type',\n",
       "       'required_experience', 'required_education', 'industry', 'function',\n",
       "       'fraudulent'],\n",
       "      dtype='object')"
      ]
     },
     "execution_count": 165,
     "metadata": {},
     "output_type": "execute_result"
    }
   ],
   "source": [
    "df.columns"
   ]
  },
  {
   "cell_type": "code",
   "execution_count": 166,
   "id": "881eebc8-fa3a-4105-a726-659d72c27546",
   "metadata": {},
   "outputs": [
    {
     "data": {
      "text/html": [
       "<div>\n",
       "<style scoped>\n",
       "    .dataframe tbody tr th:only-of-type {\n",
       "        vertical-align: middle;\n",
       "    }\n",
       "\n",
       "    .dataframe tbody tr th {\n",
       "        vertical-align: top;\n",
       "    }\n",
       "\n",
       "    .dataframe thead th {\n",
       "        text-align: right;\n",
       "    }\n",
       "</style>\n",
       "<table border=\"1\" class=\"dataframe\">\n",
       "  <thead>\n",
       "    <tr style=\"text-align: right;\">\n",
       "      <th></th>\n",
       "      <th>job_id</th>\n",
       "      <th>telecommuting</th>\n",
       "      <th>has_company_logo</th>\n",
       "      <th>has_questions</th>\n",
       "      <th>fraudulent</th>\n",
       "    </tr>\n",
       "  </thead>\n",
       "  <tbody>\n",
       "    <tr>\n",
       "      <th>count</th>\n",
       "      <td>17880.000000</td>\n",
       "      <td>17880.000000</td>\n",
       "      <td>17880.000000</td>\n",
       "      <td>17880.000000</td>\n",
       "      <td>17880.000000</td>\n",
       "    </tr>\n",
       "    <tr>\n",
       "      <th>mean</th>\n",
       "      <td>8940.500000</td>\n",
       "      <td>0.042897</td>\n",
       "      <td>0.795302</td>\n",
       "      <td>0.491723</td>\n",
       "      <td>0.048434</td>\n",
       "    </tr>\n",
       "    <tr>\n",
       "      <th>std</th>\n",
       "      <td>5161.655742</td>\n",
       "      <td>0.202631</td>\n",
       "      <td>0.403492</td>\n",
       "      <td>0.499945</td>\n",
       "      <td>0.214688</td>\n",
       "    </tr>\n",
       "    <tr>\n",
       "      <th>min</th>\n",
       "      <td>1.000000</td>\n",
       "      <td>0.000000</td>\n",
       "      <td>0.000000</td>\n",
       "      <td>0.000000</td>\n",
       "      <td>0.000000</td>\n",
       "    </tr>\n",
       "    <tr>\n",
       "      <th>25%</th>\n",
       "      <td>4470.750000</td>\n",
       "      <td>0.000000</td>\n",
       "      <td>1.000000</td>\n",
       "      <td>0.000000</td>\n",
       "      <td>0.000000</td>\n",
       "    </tr>\n",
       "    <tr>\n",
       "      <th>50%</th>\n",
       "      <td>8940.500000</td>\n",
       "      <td>0.000000</td>\n",
       "      <td>1.000000</td>\n",
       "      <td>0.000000</td>\n",
       "      <td>0.000000</td>\n",
       "    </tr>\n",
       "    <tr>\n",
       "      <th>75%</th>\n",
       "      <td>13410.250000</td>\n",
       "      <td>0.000000</td>\n",
       "      <td>1.000000</td>\n",
       "      <td>1.000000</td>\n",
       "      <td>0.000000</td>\n",
       "    </tr>\n",
       "    <tr>\n",
       "      <th>max</th>\n",
       "      <td>17880.000000</td>\n",
       "      <td>1.000000</td>\n",
       "      <td>1.000000</td>\n",
       "      <td>1.000000</td>\n",
       "      <td>1.000000</td>\n",
       "    </tr>\n",
       "  </tbody>\n",
       "</table>\n",
       "</div>"
      ],
      "text/plain": [
       "             job_id  telecommuting  has_company_logo  has_questions  \\\n",
       "count  17880.000000   17880.000000      17880.000000   17880.000000   \n",
       "mean    8940.500000       0.042897          0.795302       0.491723   \n",
       "std     5161.655742       0.202631          0.403492       0.499945   \n",
       "min        1.000000       0.000000          0.000000       0.000000   \n",
       "25%     4470.750000       0.000000          1.000000       0.000000   \n",
       "50%     8940.500000       0.000000          1.000000       0.000000   \n",
       "75%    13410.250000       0.000000          1.000000       1.000000   \n",
       "max    17880.000000       1.000000          1.000000       1.000000   \n",
       "\n",
       "         fraudulent  \n",
       "count  17880.000000  \n",
       "mean       0.048434  \n",
       "std        0.214688  \n",
       "min        0.000000  \n",
       "25%        0.000000  \n",
       "50%        0.000000  \n",
       "75%        0.000000  \n",
       "max        1.000000  "
      ]
     },
     "execution_count": 166,
     "metadata": {},
     "output_type": "execute_result"
    }
   ],
   "source": [
    "df.describe()"
   ]
  },
  {
   "cell_type": "code",
   "execution_count": 230,
   "id": "cdb55d9c-c8f9-4590-8a63-3dae57c11317",
   "metadata": {},
   "outputs": [
    {
     "name": "stdout",
     "output_type": "stream",
     "text": [
      "<class 'pandas.core.frame.DataFrame'>\n",
      "RangeIndex: 17880 entries, 0 to 17879\n",
      "Data columns (total 20 columns):\n",
      " #   Column               Non-Null Count  Dtype  \n",
      "---  ------               --------------  -----  \n",
      " 0   job_id               17880 non-null  int64  \n",
      " 1   title                17880 non-null  object \n",
      " 2   location             17534 non-null  object \n",
      " 3   department           6333 non-null   object \n",
      " 4   salary_range         17880 non-null  object \n",
      " 5   company_profile      14572 non-null  object \n",
      " 6   description          17879 non-null  object \n",
      " 7   requirements         15184 non-null  object \n",
      " 8   benefits             10668 non-null  object \n",
      " 9   telecommuting        17880 non-null  int64  \n",
      " 10  has_company_logo     17880 non-null  int64  \n",
      " 11  has_questions        17880 non-null  int64  \n",
      " 12  employment_type      17880 non-null  object \n",
      " 13  required_experience  10830 non-null  object \n",
      " 14  required_education   17880 non-null  object \n",
      " 15  industry             17880 non-null  object \n",
      " 16  function             17880 non-null  object \n",
      " 17  fraudulent           17880 non-null  int64  \n",
      " 18  min_salary           2841 non-null   float64\n",
      " 19  max_salary           2841 non-null   float64\n",
      "dtypes: float64(2), int64(5), object(13)\n",
      "memory usage: 2.7+ MB\n"
     ]
    }
   ],
   "source": [
    "df.info()"
   ]
  },
  {
   "cell_type": "code",
   "execution_count": 231,
   "id": "2134ffdc-af40-43d8-89b6-8173b1f55134",
   "metadata": {},
   "outputs": [
    {
     "data": {
      "text/plain": [
       "job_id                     0\n",
       "title                      0\n",
       "location                 346\n",
       "department             11547\n",
       "salary_range               0\n",
       "company_profile         3308\n",
       "description                1\n",
       "requirements            2696\n",
       "benefits                7212\n",
       "telecommuting              0\n",
       "has_company_logo           0\n",
       "has_questions              0\n",
       "employment_type            0\n",
       "required_experience     7050\n",
       "required_education         0\n",
       "industry                   0\n",
       "function                   0\n",
       "fraudulent                 0\n",
       "min_salary             15039\n",
       "max_salary             15039\n",
       "dtype: int64"
      ]
     },
     "execution_count": 231,
     "metadata": {},
     "output_type": "execute_result"
    }
   ],
   "source": [
    "df.isnull().sum() "
   ]
  },
  {
   "cell_type": "markdown",
   "id": "a4e88908-0877-47c2-9355-394800971e4c",
   "metadata": {},
   "source": [
    "# Filling Salary_range"
   ]
  },
  {
   "cell_type": "code",
   "execution_count": 232,
   "id": "6e0f2c01-1d98-44f3-abcc-cd8678f7f828",
   "metadata": {},
   "outputs": [],
   "source": [
    "df['salary_range'] = df['salary_range'].where(df['salary_range'].str.contains(r'^\\d+-\\d+$', na=False)) "
   ]
  },
  {
   "cell_type": "code",
   "execution_count": 233,
   "id": "f38827b7-3147-44c4-a11e-19130cc47ef6",
   "metadata": {},
   "outputs": [],
   "source": [
    "df[['min_salary','max_salary']] = df['salary_range'].str.split(\"-\", expand=True) "
   ]
  },
  {
   "cell_type": "code",
   "execution_count": 234,
   "id": "160b2ab9-b416-4099-8617-bfb3cc36dfe7",
   "metadata": {},
   "outputs": [],
   "source": [
    "df['min_salary'] = pd.to_numeric(df['min_salary'],errors='coerce') \n",
    "df['max_salary'] = pd.to_numeric(df['max_salary'], errors='coerce') "
   ]
  },
  {
   "cell_type": "code",
   "execution_count": 235,
   "id": "5e65db22-d0a9-4361-b62f-2fbb7c9a3e12",
   "metadata": {},
   "outputs": [],
   "source": [
    "mean_min_salary = np.round(df['min_salary'].mean(), 0)\n",
    "mean_max_salary = np.round(df['max_salary'].mean(), 0)"
   ]
  },
  {
   "cell_type": "code",
   "execution_count": 236,
   "id": "fbe9b04a-7847-4180-8176-8abb8ca622a5",
   "metadata": {},
   "outputs": [],
   "source": [
    "mean_salary_range = f\"{int(mean_min_salary)}-{int(mean_max_salary)}\" "
   ]
  },
  {
   "cell_type": "code",
   "execution_count": 237,
   "id": "7aed9c33-6e20-469d-9f11-f085d00f265f",
   "metadata": {},
   "outputs": [],
   "source": [
    "df['salary_range'] = df['salary_range'].fillna(mean_salary_range) "
   ]
  },
  {
   "cell_type": "code",
   "execution_count": 238,
   "id": "5b59f758-107c-401e-a779-795583afb4e5",
   "metadata": {},
   "outputs": [
    {
     "data": {
      "text/plain": [
       "0        515577-812572\n",
       "1        515577-812572\n",
       "2        515577-812572\n",
       "3        515577-812572\n",
       "4        515577-812572\n",
       "             ...      \n",
       "17875    515577-812572\n",
       "17876    515577-812572\n",
       "17877    515577-812572\n",
       "17878    515577-812572\n",
       "17879    515577-812572\n",
       "Name: salary_range, Length: 17880, dtype: object"
      ]
     },
     "execution_count": 238,
     "metadata": {},
     "output_type": "execute_result"
    }
   ],
   "source": [
    "df['salary_range'] "
   ]
  },
  {
   "cell_type": "code",
   "execution_count": 239,
   "id": "364a1106-5b55-49ce-953b-ffcba522d12e",
   "metadata": {},
   "outputs": [
    {
     "data": {
      "text/plain": [
       "dtype('O')"
      ]
     },
     "execution_count": 239,
     "metadata": {},
     "output_type": "execute_result"
    }
   ],
   "source": [
    "df['salary_range'].dtype"
   ]
  },
  {
   "cell_type": "code",
   "execution_count": 265,
   "id": "96661d9c-133b-4a5d-b4ed-db9e7347d354",
   "metadata": {},
   "outputs": [
    {
     "data": {
      "text/plain": [
       "np.int64(0)"
      ]
     },
     "execution_count": 265,
     "metadata": {},
     "output_type": "execute_result"
    }
   ],
   "source": [
    "df['salary_range'].isnull().sum()"
   ]
  },
  {
   "cell_type": "markdown",
   "id": "54950f6e-57df-42c9-a8cb-d7ec544787e8",
   "metadata": {},
   "source": [
    "# Filling Employement_type"
   ]
  },
  {
   "cell_type": "code",
   "execution_count": 241,
   "id": "57c5b48c-dfa3-4dff-93b7-1d97d97c4140",
   "metadata": {},
   "outputs": [
    {
     "data": {
      "text/plain": [
       "array(['Other', 'Full-time', 'Part-time', 'Contract'], dtype=object)"
      ]
     },
     "execution_count": 241,
     "metadata": {},
     "output_type": "execute_result"
    }
   ],
   "source": [
    "df['employment_type'].unique()"
   ]
  },
  {
   "cell_type": "code",
   "execution_count": 242,
   "id": "21e987b4-7472-4048-977c-ec45f3aeb38e",
   "metadata": {},
   "outputs": [],
   "source": [
    "df['employment_type'] = df['employment_type'].fillna('Other') "
   ]
  },
  {
   "cell_type": "code",
   "execution_count": 243,
   "id": "631c29a5-9546-423e-8af5-1f0d890153f6",
   "metadata": {},
   "outputs": [],
   "source": [
    "df['employment_type'] = df['employment_type'].replace('Temporary','Other')"
   ]
  },
  {
   "cell_type": "code",
   "execution_count": 244,
   "id": "bd0bd635-5828-4c61-9015-dc26c59f7fb3",
   "metadata": {},
   "outputs": [
    {
     "data": {
      "text/plain": [
       "np.int64(0)"
      ]
     },
     "execution_count": 244,
     "metadata": {},
     "output_type": "execute_result"
    }
   ],
   "source": [
    "df['employment_type'].isnull().sum()"
   ]
  },
  {
   "cell_type": "code",
   "execution_count": 245,
   "id": "91b6ce1e-124c-43fd-b956-3151b273987d",
   "metadata": {},
   "outputs": [
    {
     "data": {
      "text/plain": [
       "array(['Other', 'Full-time', 'Part-time', 'Contract'], dtype=object)"
      ]
     },
     "execution_count": 245,
     "metadata": {},
     "output_type": "execute_result"
    }
   ],
   "source": [
    "df['employment_type'].unique()"
   ]
  },
  {
   "cell_type": "markdown",
   "id": "7f5cd369-f632-469f-a36f-1273f44113eb",
   "metadata": {},
   "source": [
    "# Filling Industry"
   ]
  },
  {
   "cell_type": "code",
   "execution_count": 246,
   "id": "8ba631f8-1e33-42b0-b2c5-0937146b0ed9",
   "metadata": {},
   "outputs": [
    {
     "data": {
      "text/plain": [
       "0                            Other\n",
       "1        Marketing and Advertising\n",
       "2                            Other\n",
       "3                Computer Software\n",
       "4           Hospital & Health Care\n",
       "                   ...            \n",
       "17875            Computer Software\n",
       "17876                     Internet\n",
       "17877                        Other\n",
       "17878               Graphic Design\n",
       "17879            Computer Software\n",
       "Name: industry, Length: 17880, dtype: object"
      ]
     },
     "execution_count": 246,
     "metadata": {},
     "output_type": "execute_result"
    }
   ],
   "source": [
    "df['industry'] #before"
   ]
  },
  {
   "cell_type": "code",
   "execution_count": 247,
   "id": "75d7374f-69d8-45dd-817b-39e39b4246e7",
   "metadata": {},
   "outputs": [],
   "source": [
    "df['industry'] = df['industry'].fillna('Other')"
   ]
  },
  {
   "cell_type": "code",
   "execution_count": 248,
   "id": "6daca274-98cd-4ffb-a5e0-8e7b601052fd",
   "metadata": {},
   "outputs": [
    {
     "data": {
      "text/plain": [
       "0                            Other\n",
       "1        Marketing and Advertising\n",
       "2                            Other\n",
       "3                Computer Software\n",
       "4           Hospital & Health Care\n",
       "                   ...            \n",
       "17875            Computer Software\n",
       "17876                     Internet\n",
       "17877                        Other\n",
       "17878               Graphic Design\n",
       "17879            Computer Software\n",
       "Name: industry, Length: 17880, dtype: object"
      ]
     },
     "execution_count": 248,
     "metadata": {},
     "output_type": "execute_result"
    }
   ],
   "source": [
    "df['industry'] #after "
   ]
  },
  {
   "cell_type": "code",
   "execution_count": 249,
   "id": "8a1fb515-9797-4457-a5d2-55fd5bd520ab",
   "metadata": {},
   "outputs": [
    {
     "data": {
      "text/plain": [
       "np.int64(0)"
      ]
     },
     "execution_count": 249,
     "metadata": {},
     "output_type": "execute_result"
    }
   ],
   "source": [
    "df['industry'].isnull().sum()"
   ]
  },
  {
   "cell_type": "markdown",
   "id": "24a104e2-701a-4087-8de6-72c9e32ad5a9",
   "metadata": {},
   "source": [
    "# Filling Function"
   ]
  },
  {
   "cell_type": "code",
   "execution_count": 250,
   "id": "22816142-b92d-45b3-8593-7a6ea799a406",
   "metadata": {},
   "outputs": [
    {
     "data": {
      "text/plain": [
       "array(['Marketing', 'Customer Service', 'Other', 'Sales',\n",
       "       'Health Care Provider', 'Management', 'Information Technology',\n",
       "       'Engineering', 'Administrative', 'Design', 'Production',\n",
       "       'Education', 'Supply Chain', 'Business Development',\n",
       "       'Product Management', 'Financial Analyst', 'Consulting',\n",
       "       'Human Resources', 'Project Management', 'Manufacturing',\n",
       "       'Public Relations', 'Strategy/Planning', 'Advertising', 'Finance',\n",
       "       'General Business', 'Research', 'Accounting/Auditing',\n",
       "       'Art/Creative', 'Quality Assurance', 'Data Analyst',\n",
       "       'Business Analyst', 'Writing/Editing', 'Distribution', 'Science',\n",
       "       'Training', 'Purchasing', 'Legal'], dtype=object)"
      ]
     },
     "execution_count": 250,
     "metadata": {},
     "output_type": "execute_result"
    }
   ],
   "source": [
    "df['function'].unique()"
   ]
  },
  {
   "cell_type": "code",
   "execution_count": 251,
   "id": "859b52cc-d92c-4199-8fd7-d61bc44b1024",
   "metadata": {},
   "outputs": [],
   "source": [
    "df['function'] = df['function'].fillna('Other')"
   ]
  },
  {
   "cell_type": "code",
   "execution_count": 252,
   "id": "fe5f286b-30b9-41f3-88b6-2a51330d2041",
   "metadata": {},
   "outputs": [
    {
     "data": {
      "text/plain": [
       "np.int64(0)"
      ]
     },
     "execution_count": 252,
     "metadata": {},
     "output_type": "execute_result"
    }
   ],
   "source": [
    "df['function'].isnull().sum()"
   ]
  },
  {
   "cell_type": "markdown",
   "id": "4900a467-af13-4b5d-9250-82833ad5e3cd",
   "metadata": {},
   "source": [
    "# Filling required_education"
   ]
  },
  {
   "cell_type": "code",
   "execution_count": 253,
   "id": "e733be9a-789f-41eb-8507-e07be42d76a3",
   "metadata": {},
   "outputs": [
    {
     "data": {
      "text/plain": [
       "array(['Not Specified', \"Bachelor's Degree\", \"Master's Degree\",\n",
       "       'High School or equivalent', 'Some College Coursework Completed',\n",
       "       'Vocational', 'Certification', 'Associate Degree', 'Professional',\n",
       "       'Doctorate', 'Some High School Coursework', 'Vocational - Degree',\n",
       "       'Vocational - HS Diploma'], dtype=object)"
      ]
     },
     "execution_count": 253,
     "metadata": {},
     "output_type": "execute_result"
    }
   ],
   "source": [
    "df['required_education'].unique()"
   ]
  },
  {
   "cell_type": "code",
   "execution_count": 257,
   "id": "501a7aa4-4c59-474a-9704-cfbeffbe9de7",
   "metadata": {},
   "outputs": [
    {
     "name": "stderr",
     "output_type": "stream",
     "text": [
      "C:\\Users\\Technologist\\AppData\\Local\\Temp\\ipykernel_19112\\441113273.py:1: FutureWarning: A value is trying to be set on a copy of a DataFrame or Series through chained assignment using an inplace method.\n",
      "The behavior will change in pandas 3.0. This inplace method will never work because the intermediate object on which we are setting values always behaves as a copy.\n",
      "\n",
      "For example, when doing 'df[col].method(value, inplace=True)', try using 'df.method({col: value}, inplace=True)' or df[col] = df[col].method(value) instead, to perform the operation inplace on the original object.\n",
      "\n",
      "\n",
      "  df['required_education'].fillna({\"required_education\":\"Not Specified\"}, inplace=True)\n"
     ]
    }
   ],
   "source": [
    "df['required_education'].fillna({\"required_education\":\"Not Specified\"}, inplace=True)"
   ]
  },
  {
   "cell_type": "code",
   "execution_count": 255,
   "id": "90f461a1-a267-4a87-99c3-6e05244b07fe",
   "metadata": {},
   "outputs": [],
   "source": [
    "df['required_education'] = df['required_education'].replace(\"Unspecified\",\"Not Specified\")"
   ]
  },
  {
   "cell_type": "code",
   "execution_count": 256,
   "id": "e983a9c1-61ab-4163-8fe5-77102e1f4fb3",
   "metadata": {},
   "outputs": [
    {
     "data": {
      "text/plain": [
       "0        Not Specified\n",
       "1        Not Specified\n",
       "2        Not Specified\n",
       "3    Bachelor's Degree\n",
       "4    Bachelor's Degree\n",
       "Name: required_education, dtype: object"
      ]
     },
     "execution_count": 256,
     "metadata": {},
     "output_type": "execute_result"
    }
   ],
   "source": [
    "df['required_education'].head()"
   ]
  },
  {
   "cell_type": "code",
   "execution_count": 227,
   "id": "24a6b908-e284-4afd-8013-ab91556b361a",
   "metadata": {},
   "outputs": [
    {
     "data": {
      "text/plain": [
       "array(['Not Specified', \"Bachelor's Degree\", \"Master's Degree\",\n",
       "       'High School or equivalent', 'Some College Coursework Completed',\n",
       "       'Vocational', 'Certification', 'Associate Degree', 'Professional',\n",
       "       'Doctorate', 'Some High School Coursework', 'Vocational - Degree',\n",
       "       'Vocational - HS Diploma'], dtype=object)"
      ]
     },
     "execution_count": 227,
     "metadata": {},
     "output_type": "execute_result"
    }
   ],
   "source": [
    "df['required_education'].unique()"
   ]
  },
  {
   "cell_type": "code",
   "execution_count": 229,
   "id": "4bead5eb-21fc-467b-97ef-21441a5e52b8",
   "metadata": {},
   "outputs": [
    {
     "data": {
      "text/plain": [
       "np.int64(0)"
      ]
     },
     "execution_count": 229,
     "metadata": {},
     "output_type": "execute_result"
    }
   ],
   "source": [
    "df['required_education'].isnull().sum()"
   ]
  },
  {
   "cell_type": "markdown",
   "id": "1febd556-183a-4b89-a617-6dc1414ead24",
   "metadata": {},
   "source": [
    "# Filling required_experience"
   ]
  },
  {
   "cell_type": "code",
   "execution_count": 258,
   "id": "466abf29-9178-4328-b22f-39fda8610d4d",
   "metadata": {},
   "outputs": [
    {
     "data": {
      "text/plain": [
       "0           Internship\n",
       "1       Not Applicable\n",
       "2                  NaN\n",
       "3     Mid-Senior level\n",
       "4     Mid-Senior level\n",
       "5                  NaN\n",
       "6     Mid-Senior level\n",
       "7                  NaN\n",
       "8            Associate\n",
       "9          Entry level\n",
       "10    Mid-Senior level\n",
       "11                 NaN\n",
       "12           Associate\n",
       "13      Not Applicable\n",
       "14           Associate\n",
       "15           Executive\n",
       "16    Mid-Senior level\n",
       "17                 NaN\n",
       "18                 NaN\n",
       "19                 NaN\n",
       "20                 NaN\n",
       "21    Mid-Senior level\n",
       "22    Mid-Senior level\n",
       "23           Executive\n",
       "24                 NaN\n",
       "25                 NaN\n",
       "26           Associate\n",
       "27           Associate\n",
       "28                 NaN\n",
       "29         Entry level\n",
       "30         Entry level\n",
       "31           Associate\n",
       "32         Entry level\n",
       "33                 NaN\n",
       "34                 NaN\n",
       "35                 NaN\n",
       "36                 NaN\n",
       "37    Mid-Senior level\n",
       "38    Mid-Senior level\n",
       "39         Entry level\n",
       "40                 NaN\n",
       "41                 NaN\n",
       "42         Entry level\n",
       "43         Entry level\n",
       "44         Entry level\n",
       "45                 NaN\n",
       "46         Entry level\n",
       "47         Entry level\n",
       "48                 NaN\n",
       "49         Entry level\n",
       "Name: required_experience, dtype: object"
      ]
     },
     "execution_count": 258,
     "metadata": {},
     "output_type": "execute_result"
    }
   ],
   "source": [
    "df['required_experience'].head(50)"
   ]
  },
  {
   "cell_type": "code",
   "execution_count": 263,
   "id": "6e313442-4641-43b9-be48-4f6d895df4b3",
   "metadata": {},
   "outputs": [
    {
     "data": {
      "text/plain": [
       "array(['Internship', 'Not Specified', 'Mid-Senior level', 'Associate',\n",
       "       'Entry level', 'Executive', 'Director'], dtype=object)"
      ]
     },
     "execution_count": 263,
     "metadata": {},
     "output_type": "execute_result"
    }
   ],
   "source": [
    "df['required_experience'].unique() "
   ]
  },
  {
   "cell_type": "code",
   "execution_count": 259,
   "id": "85bb5f2e-ca75-41fc-84e2-96b7b42d9c4b",
   "metadata": {},
   "outputs": [],
   "source": [
    "df['required_experience'] = df['required_experience'].fillna(\"Not Specified\")"
   ]
  },
  {
   "cell_type": "code",
   "execution_count": 262,
   "id": "aafdea1a-87e0-4e60-82c7-970f3f314639",
   "metadata": {},
   "outputs": [],
   "source": [
    "df['required_experience'] = df['required_experience'].replace(\"Not Applicable\",\"Not Specified\")"
   ]
  },
  {
   "cell_type": "code",
   "execution_count": 260,
   "id": "1f94c641-9d75-43c6-a4da-7db0fd2d44db",
   "metadata": {},
   "outputs": [
    {
     "data": {
      "text/plain": [
       "np.int64(0)"
      ]
     },
     "execution_count": 260,
     "metadata": {},
     "output_type": "execute_result"
    }
   ],
   "source": [
    "df['required_experience'].isnull().sum()"
   ]
  },
  {
   "cell_type": "markdown",
   "id": "c7a9e914-cdfc-4bc2-85b5-9a8046f1a7ce",
   "metadata": {},
   "source": [
    "# Filling Benefits"
   ]
  },
  {
   "cell_type": "code",
   "execution_count": 267,
   "id": "aadacaf8-b574-4b32-a527-08380068c3dc",
   "metadata": {},
   "outputs": [],
   "source": [
    "df['benefits'] = df['benefits'].fillna(\"Not Specified\")"
   ]
  },
  {
   "cell_type": "code",
   "execution_count": 268,
   "id": "de4eb495-fdbf-402d-8643-15f9398febbe",
   "metadata": {},
   "outputs": [
    {
     "data": {
      "text/plain": [
       "0                                        Not Specified\n",
       "1    What you will get from usThrough being part of...\n",
       "2                                        Not Specified\n",
       "3    Our culture is anything but corporate—we have ...\n",
       "4                                Full Benefits Offered\n",
       "Name: benefits, dtype: object"
      ]
     },
     "execution_count": 268,
     "metadata": {},
     "output_type": "execute_result"
    }
   ],
   "source": [
    "df['benefits'].head()"
   ]
  },
  {
   "cell_type": "markdown",
   "id": "f0e3b584-6908-4ddc-99f7-d63b128f5bb1",
   "metadata": {},
   "source": [
    "# Filling requirements"
   ]
  },
  {
   "cell_type": "code",
   "execution_count": 269,
   "id": "09674a75-14a1-46bc-b301-3776f697e175",
   "metadata": {},
   "outputs": [
    {
     "data": {
      "text/plain": [
       "0        Experience with content management systems a m...\n",
       "1        What we expect from you:Your key responsibilit...\n",
       "2        Implement pre-commissioning and commissioning ...\n",
       "3        EDUCATION: Bachelor’s or Master’s in GIS, busi...\n",
       "4        QUALIFICATIONS:RN license in the State of Texa...\n",
       "                               ...                        \n",
       "17875    To ace this role you:Will eat comprehensive St...\n",
       "17876    - B.A. or B.S. in Accounting- Desire to have f...\n",
       "17877    At least 12 years professional experience.Abil...\n",
       "17878    1. Must be fluent in the latest versions of Co...\n",
       "17879    We want to hear from you if:You have an in-dep...\n",
       "Name: requirements, Length: 17880, dtype: object"
      ]
     },
     "execution_count": 269,
     "metadata": {},
     "output_type": "execute_result"
    }
   ],
   "source": [
    "df['requirements']"
   ]
  },
  {
   "cell_type": "code",
   "execution_count": 276,
   "id": "92e60b92-51dc-4ddd-99b9-dbd1bc2560c0",
   "metadata": {},
   "outputs": [],
   "source": [
    "df['requirements'] = df['requirements'].fillna(\"Not Specified\")"
   ]
  },
  {
   "cell_type": "code",
   "execution_count": 277,
   "id": "226c585b-32c8-4a2b-a62e-6ba347d0b8c2",
   "metadata": {},
   "outputs": [
    {
     "data": {
      "text/plain": [
       "np.int64(0)"
      ]
     },
     "execution_count": 277,
     "metadata": {},
     "output_type": "execute_result"
    }
   ],
   "source": [
    "df['requirements'].isnull().sum()"
   ]
  },
  {
   "cell_type": "markdown",
   "id": "c2d0f04f-7d2a-4e78-8093-bfe8b4d2abe6",
   "metadata": {},
   "source": [
    "# Export New Dataset"
   ]
  },
  {
   "cell_type": "code",
   "execution_count": 283,
   "id": "c216ea20-2e35-4046-81d1-edccfb5616da",
   "metadata": {},
   "outputs": [],
   "source": [
    "df.to_csv(\"New_fake_jobs_dataset\", index=False)"
   ]
  },
  {
   "cell_type": "markdown",
   "id": "6c9d557c-5297-41de-993e-15fb1ccf0f96",
   "metadata": {},
   "source": [
    "# Reading the exported dataset"
   ]
  },
  {
   "cell_type": "code",
   "execution_count": 284,
   "id": "34bde542-205e-43a9-aa2f-f1c13f8fe934",
   "metadata": {},
   "outputs": [],
   "source": [
    "df2 = pd.read_csv('New_fake_jobs_dataset')"
   ]
  },
  {
   "cell_type": "code",
   "execution_count": 285,
   "id": "ee1879c4-8a7d-48ac-9e71-2a5cdb54ebbb",
   "metadata": {},
   "outputs": [
    {
     "data": {
      "text/html": [
       "<div>\n",
       "<style scoped>\n",
       "    .dataframe tbody tr th:only-of-type {\n",
       "        vertical-align: middle;\n",
       "    }\n",
       "\n",
       "    .dataframe tbody tr th {\n",
       "        vertical-align: top;\n",
       "    }\n",
       "\n",
       "    .dataframe thead th {\n",
       "        text-align: right;\n",
       "    }\n",
       "</style>\n",
       "<table border=\"1\" class=\"dataframe\">\n",
       "  <thead>\n",
       "    <tr style=\"text-align: right;\">\n",
       "      <th></th>\n",
       "      <th>job_id</th>\n",
       "      <th>title</th>\n",
       "      <th>location</th>\n",
       "      <th>department</th>\n",
       "      <th>salary_range</th>\n",
       "      <th>company_profile</th>\n",
       "      <th>description</th>\n",
       "      <th>requirements</th>\n",
       "      <th>benefits</th>\n",
       "      <th>telecommuting</th>\n",
       "      <th>has_company_logo</th>\n",
       "      <th>has_questions</th>\n",
       "      <th>employment_type</th>\n",
       "      <th>required_experience</th>\n",
       "      <th>required_education</th>\n",
       "      <th>industry</th>\n",
       "      <th>function</th>\n",
       "      <th>fraudulent</th>\n",
       "      <th>min_salary</th>\n",
       "      <th>max_salary</th>\n",
       "    </tr>\n",
       "  </thead>\n",
       "  <tbody>\n",
       "    <tr>\n",
       "      <th>0</th>\n",
       "      <td>1</td>\n",
       "      <td>Marketing Intern</td>\n",
       "      <td>US, NY, New York</td>\n",
       "      <td>Marketing</td>\n",
       "      <td>515577-812572</td>\n",
       "      <td>We're Food52, and we've created a groundbreaki...</td>\n",
       "      <td>Food52, a fast-growing, James Beard Award-winn...</td>\n",
       "      <td>Experience with content management systems a m...</td>\n",
       "      <td>Not Specified</td>\n",
       "      <td>0</td>\n",
       "      <td>1</td>\n",
       "      <td>0</td>\n",
       "      <td>Other</td>\n",
       "      <td>Internship</td>\n",
       "      <td>Not Specified</td>\n",
       "      <td>Other</td>\n",
       "      <td>Marketing</td>\n",
       "      <td>0</td>\n",
       "      <td>515577</td>\n",
       "      <td>812572</td>\n",
       "    </tr>\n",
       "    <tr>\n",
       "      <th>1</th>\n",
       "      <td>2</td>\n",
       "      <td>Customer Service - Cloud Video Production</td>\n",
       "      <td>NZ, , Auckland</td>\n",
       "      <td>Success</td>\n",
       "      <td>515577-812572</td>\n",
       "      <td>90 Seconds, the worlds Cloud Video Production ...</td>\n",
       "      <td>Organised - Focused - Vibrant - Awesome!Do you...</td>\n",
       "      <td>What we expect from you:Your key responsibilit...</td>\n",
       "      <td>What you will get from usThrough being part of...</td>\n",
       "      <td>0</td>\n",
       "      <td>1</td>\n",
       "      <td>0</td>\n",
       "      <td>Full-time</td>\n",
       "      <td>Not Specified</td>\n",
       "      <td>Not Specified</td>\n",
       "      <td>Marketing and Advertising</td>\n",
       "      <td>Customer Service</td>\n",
       "      <td>0</td>\n",
       "      <td>515577</td>\n",
       "      <td>812572</td>\n",
       "    </tr>\n",
       "    <tr>\n",
       "      <th>2</th>\n",
       "      <td>3</td>\n",
       "      <td>Commissioning Machinery Assistant (CMA)</td>\n",
       "      <td>US, IA, Wever</td>\n",
       "      <td>NaN</td>\n",
       "      <td>515577-812572</td>\n",
       "      <td>Valor Services provides Workforce Solutions th...</td>\n",
       "      <td>Our client, located in Houston, is actively se...</td>\n",
       "      <td>Implement pre-commissioning and commissioning ...</td>\n",
       "      <td>Not Specified</td>\n",
       "      <td>0</td>\n",
       "      <td>1</td>\n",
       "      <td>0</td>\n",
       "      <td>Other</td>\n",
       "      <td>Not Specified</td>\n",
       "      <td>Not Specified</td>\n",
       "      <td>Other</td>\n",
       "      <td>Other</td>\n",
       "      <td>0</td>\n",
       "      <td>515577</td>\n",
       "      <td>812572</td>\n",
       "    </tr>\n",
       "    <tr>\n",
       "      <th>3</th>\n",
       "      <td>4</td>\n",
       "      <td>Account Executive - Washington DC</td>\n",
       "      <td>US, DC, Washington</td>\n",
       "      <td>Sales</td>\n",
       "      <td>515577-812572</td>\n",
       "      <td>Our passion for improving quality of life thro...</td>\n",
       "      <td>THE COMPANY: ESRI – Environmental Systems Rese...</td>\n",
       "      <td>EDUCATION: Bachelor’s or Master’s in GIS, busi...</td>\n",
       "      <td>Our culture is anything but corporate—we have ...</td>\n",
       "      <td>0</td>\n",
       "      <td>1</td>\n",
       "      <td>0</td>\n",
       "      <td>Full-time</td>\n",
       "      <td>Mid-Senior level</td>\n",
       "      <td>Bachelor's Degree</td>\n",
       "      <td>Computer Software</td>\n",
       "      <td>Sales</td>\n",
       "      <td>0</td>\n",
       "      <td>515577</td>\n",
       "      <td>812572</td>\n",
       "    </tr>\n",
       "    <tr>\n",
       "      <th>4</th>\n",
       "      <td>5</td>\n",
       "      <td>Bill Review Manager</td>\n",
       "      <td>US, FL, Fort Worth</td>\n",
       "      <td>NaN</td>\n",
       "      <td>515577-812572</td>\n",
       "      <td>SpotSource Solutions LLC is a Global Human Cap...</td>\n",
       "      <td>JOB TITLE: Itemization Review ManagerLOCATION:...</td>\n",
       "      <td>QUALIFICATIONS:RN license in the State of Texa...</td>\n",
       "      <td>Full Benefits Offered</td>\n",
       "      <td>0</td>\n",
       "      <td>1</td>\n",
       "      <td>1</td>\n",
       "      <td>Full-time</td>\n",
       "      <td>Mid-Senior level</td>\n",
       "      <td>Bachelor's Degree</td>\n",
       "      <td>Hospital &amp; Health Care</td>\n",
       "      <td>Health Care Provider</td>\n",
       "      <td>0</td>\n",
       "      <td>515577</td>\n",
       "      <td>812572</td>\n",
       "    </tr>\n",
       "  </tbody>\n",
       "</table>\n",
       "</div>"
      ],
      "text/plain": [
       "   job_id                                      title            location  \\\n",
       "0       1                           Marketing Intern    US, NY, New York   \n",
       "1       2  Customer Service - Cloud Video Production      NZ, , Auckland   \n",
       "2       3    Commissioning Machinery Assistant (CMA)       US, IA, Wever   \n",
       "3       4          Account Executive - Washington DC  US, DC, Washington   \n",
       "4       5                        Bill Review Manager  US, FL, Fort Worth   \n",
       "\n",
       "  department   salary_range  \\\n",
       "0  Marketing  515577-812572   \n",
       "1    Success  515577-812572   \n",
       "2        NaN  515577-812572   \n",
       "3      Sales  515577-812572   \n",
       "4        NaN  515577-812572   \n",
       "\n",
       "                                     company_profile  \\\n",
       "0  We're Food52, and we've created a groundbreaki...   \n",
       "1  90 Seconds, the worlds Cloud Video Production ...   \n",
       "2  Valor Services provides Workforce Solutions th...   \n",
       "3  Our passion for improving quality of life thro...   \n",
       "4  SpotSource Solutions LLC is a Global Human Cap...   \n",
       "\n",
       "                                         description  \\\n",
       "0  Food52, a fast-growing, James Beard Award-winn...   \n",
       "1  Organised - Focused - Vibrant - Awesome!Do you...   \n",
       "2  Our client, located in Houston, is actively se...   \n",
       "3  THE COMPANY: ESRI – Environmental Systems Rese...   \n",
       "4  JOB TITLE: Itemization Review ManagerLOCATION:...   \n",
       "\n",
       "                                        requirements  \\\n",
       "0  Experience with content management systems a m...   \n",
       "1  What we expect from you:Your key responsibilit...   \n",
       "2  Implement pre-commissioning and commissioning ...   \n",
       "3  EDUCATION: Bachelor’s or Master’s in GIS, busi...   \n",
       "4  QUALIFICATIONS:RN license in the State of Texa...   \n",
       "\n",
       "                                            benefits  telecommuting  \\\n",
       "0                                      Not Specified              0   \n",
       "1  What you will get from usThrough being part of...              0   \n",
       "2                                      Not Specified              0   \n",
       "3  Our culture is anything but corporate—we have ...              0   \n",
       "4                              Full Benefits Offered              0   \n",
       "\n",
       "   has_company_logo  has_questions employment_type required_experience  \\\n",
       "0                 1              0           Other          Internship   \n",
       "1                 1              0       Full-time       Not Specified   \n",
       "2                 1              0           Other       Not Specified   \n",
       "3                 1              0       Full-time    Mid-Senior level   \n",
       "4                 1              1       Full-time    Mid-Senior level   \n",
       "\n",
       "  required_education                   industry              function  \\\n",
       "0      Not Specified                      Other             Marketing   \n",
       "1      Not Specified  Marketing and Advertising      Customer Service   \n",
       "2      Not Specified                      Other                 Other   \n",
       "3  Bachelor's Degree          Computer Software                 Sales   \n",
       "4  Bachelor's Degree     Hospital & Health Care  Health Care Provider   \n",
       "\n",
       "   fraudulent  min_salary  max_salary  \n",
       "0           0      515577      812572  \n",
       "1           0      515577      812572  \n",
       "2           0      515577      812572  \n",
       "3           0      515577      812572  \n",
       "4           0      515577      812572  "
      ]
     },
     "execution_count": 285,
     "metadata": {},
     "output_type": "execute_result"
    }
   ],
   "source": [
    "df2.head()"
   ]
  },
  {
   "cell_type": "code",
   "execution_count": null,
   "id": "688e65a8-6408-4e28-a6db-4ee26c7beeef",
   "metadata": {},
   "outputs": [],
   "source": []
  }
 ],
 "metadata": {
  "kernelspec": {
   "display_name": "Python 3 (ipykernel)",
   "language": "python",
   "name": "python3"
  },
  "language_info": {
   "codemirror_mode": {
    "name": "ipython",
    "version": 3
   },
   "file_extension": ".py",
   "mimetype": "text/x-python",
   "name": "python",
   "nbconvert_exporter": "python",
   "pygments_lexer": "ipython3",
   "version": "3.12.8"
  }
 },
 "nbformat": 4,
 "nbformat_minor": 5
}
